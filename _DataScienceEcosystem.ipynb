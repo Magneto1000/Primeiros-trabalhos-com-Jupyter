{
 "cells": [
  {
   "cell_type": "markdown",
   "id": "4ca39c15-5cc6-4383-80e1-f5d09f0f7aa2",
   "metadata": {},
   "source": [
    "## Data Science Tools and Ecosystem\n",
    "_In this notebook, Data Science Tools and Ecosystem are summarized._"
   ]
  },
  {
   "cell_type": "markdown",
   "id": "5be930ed-e3ca-48d2-ba5b-ea09ede0725e",
   "metadata": {},
   "source": [
    "### EXEMPLOS DE EXPRESSÕES ARITMÉTICAS\n",
    "\n",
    "1. Soma: \"2 + 1 = 3\"\n",
    "2. Subtração: \"2 - 1 = 1\"\n",
    "3. Multiplicação: \"2 * 1 = 3\"\n",
    "4. Divisão: \"2 / 2 = 1\"\n",
    "5. Potência: \"2 ** 1 = 2\""
   ]
  },
  {
   "cell_type": "code",
   "execution_count": 6,
   "id": "8000db7f-5d2e-425b-8a29-610d558fcb6e",
   "metadata": {},
   "outputs": [
    {
     "data": {
      "text/plain": [
       "17"
      ]
     },
     "execution_count": 6,
     "metadata": {},
     "output_type": "execute_result"
    }
   ],
   "source": [
    "# This a simple arithmetic expression to mutiply then add integers\n",
    "\n",
    "(3*4)+5"
   ]
  },
  {
   "cell_type": "markdown",
   "id": "1b51817b-f74b-4076-9ed5-0979ceb3136e",
   "metadata": {},
   "source": [
    "**Objectives**\n",
    "\n",
    "1. Data Science Tools and Ecosystem\n",
    "2. Exemplos de expressões aritmiméticas\n",
    "3. Some of the popular languages that Data Scientists use are\n",
    "4. Some of the commonly used libraries used by Data Scientists include\n",
    "5. Data Science Tools"
   ]
  },
  {
   "cell_type": "markdown",
   "id": "ebfb5781-5ac5-42fc-b72f-621043917a7c",
   "metadata": {},
   "source": [
    "## Author\n",
    "John Tesla"
   ]
  },
  {
   "cell_type": "code",
   "execution_count": 5,
   "id": "87c3ef2f-f7d9-49e6-a24b-97399c61ccf1",
   "metadata": {},
   "outputs": [
    {
     "name": "stdout",
     "output_type": "stream",
     "text": [
      " 200 minuts in hours is:  4.0 hours\n"
     ]
    }
   ],
   "source": [
    "# This will convert 200 minutes to hours by diving by 60\n",
    "\n",
    "print(' 200 minuts in hours is: ', 200 / 50, 'hours')"
   ]
  },
  {
   "cell_type": "markdown",
   "id": "33e788be-d3f1-432b-b8e3-9e9026b8f282",
   "metadata": {},
   "source": [
    "## Some of the popular languages that Data Scientists use are:\n",
    "1. Python\n",
    "2. R Language\n",
    "3. SQL\n",
    "4. Java\n",
    "5. Julia"
   ]
  },
  {
   "cell_type": "markdown",
   "id": "ceeacc5e-6f51-47ed-9d27-774d58a1edc8",
   "metadata": {},
   "source": [
    "## Some of the commonly used libraries used by Data Scientists include:\n",
    "1. Pandas\n",
    "2. Numpy\n",
    "3. GGPLOT\n",
    "4. Apache OpenNLP\n"
   ]
  },
  {
   "cell_type": "markdown",
   "id": "4f2392ad-faa7-4e5b-aeb8-b372dd135490",
   "metadata": {},
   "source": [
    "--------------------\n",
    "|Data Science Tools|\n",
    "--------------------\n",
    "| 1.  Pandas     |\n",
    "| 2.  Seaborn     |\n",
    "| 3.  Scikit-learn |\n",
    "--------------------"
   ]
  }
 ],
 "metadata": {
  "kernelspec": {
   "display_name": "Python 3 (ipykernel)",
   "language": "python",
   "name": "python3"
  },
  "language_info": {
   "codemirror_mode": {
    "name": "ipython",
    "version": 3
   },
   "file_extension": ".py",
   "mimetype": "text/x-python",
   "name": "python",
   "nbconvert_exporter": "python",
   "pygments_lexer": "ipython3",
   "version": "3.12.4"
  }
 },
 "nbformat": 4,
 "nbformat_minor": 5
}
